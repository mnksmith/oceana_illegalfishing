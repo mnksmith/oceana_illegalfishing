{
 "cells": [
  {
   "cell_type": "markdown",
   "metadata": {},
   "source": [
    "# Example Script for Logistic Regression for Fishing Detection"
   ]
  },
  {
   "cell_type": "code",
   "execution_count": 10,
   "metadata": {},
   "outputs": [],
   "source": [
    "%matplotlib inline\n",
    "import numpy as np\n",
    "import pandas as pd\n",
    "import matplotlib.pyplot as plt\n",
    "from patsy import dmatrices\n",
    "from sklearn.linear_model import LogisticRegression\n",
    "from sklearn.model_selection import train_test_split\n",
    "from sklearn import metrics\n",
    "from sklearn.model_selection import cross_val_score\n"
   ]
  },
  {
   "cell_type": "markdown",
   "metadata": {},
   "source": [
    "Load data.  This dataset contains coordinates, speeds, and courses for fishing vessels, hand labeled to be fishing or not fishing."
   ]
  },
  {
   "cell_type": "code",
   "execution_count": 11,
   "metadata": {
    "scrolled": true
   },
   "outputs": [
    {
     "data": {
      "text/plain": [
       "['measure_coursestddev_43200',\n",
       " 'measure_speedavg_86400',\n",
       " 'measure_coursestddev_1800_log',\n",
       " 'measure_coursestddev_10800_log',\n",
       " 'measure_courseavg_43200',\n",
       " 'measure_cos_course',\n",
       " 'measure_daylightavg_1800',\n",
       " 'measure_coursestddev_21600',\n",
       " 'measure_speedstddev_1800',\n",
       " 'measure_distance_from_port',\n",
       " 'measure_count_1800',\n",
       " 'course',\n",
       " 'measure_sin_course',\n",
       " 'measure_speedstddev_10800',\n",
       " 'measure_speedavg_21600',\n",
       " 'speed',\n",
       " 'is_fishing',\n",
       " 'measure_pos_86400',\n",
       " 'measure_daylightavg_43200',\n",
       " 'measure_latavg_86400',\n",
       " 'measure_latavg_10800',\n",
       " 'distance_from_port',\n",
       " 'measure_latavg_1800',\n",
       " 'measure_pos_1800',\n",
       " 'measure_lonavg_3600',\n",
       " 'measure_count_3600',\n",
       " 'lon',\n",
       " 'measure_speedavg_10800',\n",
       " 'measure_latavg_3600',\n",
       " 'measure_coursestddev_43200_log',\n",
       " 'measure_latavg_21600',\n",
       " 'measure_daylightavg_10800',\n",
       " 'measure_count_86400',\n",
       " 'measure_count_21600',\n",
       " 'measure_speedstddev_86400_log',\n",
       " 'measure_lonavg_1800',\n",
       " 'measure_courseavg_10800',\n",
       " 'measure_speedstddev_3600',\n",
       " 'measure_lonavg_10800',\n",
       " 'measure_course',\n",
       " 'measure_pos_43200',\n",
       " 'distance_from_shore',\n",
       " 'measure_courseavg_1800',\n",
       " 'measure_pos_3600',\n",
       " 'measure_speedstddev_86400',\n",
       " 'measure_coursestddev_21600_log',\n",
       " 'measure_lonavg_21600',\n",
       " 'timestamp',\n",
       " 'measure_speedstddev_21600_log',\n",
       " 'measure_coursestddev_86400_log',\n",
       " 'measure_speedavg_43200',\n",
       " 'measure_coursestddev_86400',\n",
       " 'measure_speedavg_3600',\n",
       " 'measure_courseavg_3600',\n",
       " 'measure_speedstddev_21600',\n",
       " 'measure_daylightavg_86400',\n",
       " 'lat',\n",
       " 'measure_count_43200',\n",
       " 'measure_daylightavg_3600',\n",
       " 'mmsi',\n",
       " 'measure_pos_10800',\n",
       " 'measure_count_10800',\n",
       " 'measure_speedstddev_43200_log',\n",
       " 'measure_coursestddev_3600',\n",
       " 'measure_speedstddev_43200',\n",
       " 'measure_courseavg_86400',\n",
       " 'measure_lonavg_86400',\n",
       " 'measure_speedstddev_3600_log',\n",
       " 'measure_latavg_43200',\n",
       " 'measure_speedstddev_10800_log',\n",
       " 'measure_daylightavg_21600',\n",
       " 'measure_daylight',\n",
       " 'measure_coursestddev_1800',\n",
       " 'measure_pos_21600',\n",
       " 'measure_coursestddev_3600_log',\n",
       " 'measure_speedavg_1800',\n",
       " 'measure_lonavg_43200',\n",
       " 'measure_speedstddev_1800_log',\n",
       " 'measure_courseavg_21600',\n",
       " 'measure_coursestddev_10800',\n",
       " 'measure_speed']"
      ]
     },
     "execution_count": 11,
     "metadata": {},
     "output_type": "execute_result"
    }
   ],
   "source": [
    "data = np.load('/Users/mnksmith/Documents/Oceana_MPA_data/kristina_trawl_Trawlers.measures.labels.npz')\n",
    "df = pd.DataFrame(data['x'])\n",
    "list(df)"
   ]
  },
  {
   "cell_type": "markdown",
   "metadata": {},
   "source": [
    "## Some preliminary exploration:"
   ]
  },
  {
   "cell_type": "code",
   "execution_count": 12,
   "metadata": {},
   "outputs": [
    {
     "data": {
      "text/html": [
       "<div>\n",
       "<style scoped>\n",
       "    .dataframe tbody tr th:only-of-type {\n",
       "        vertical-align: middle;\n",
       "    }\n",
       "\n",
       "    .dataframe tbody tr th {\n",
       "        vertical-align: top;\n",
       "    }\n",
       "\n",
       "    .dataframe thead th {\n",
       "        text-align: right;\n",
       "    }\n",
       "</style>\n",
       "<table border=\"1\" class=\"dataframe\">\n",
       "  <thead>\n",
       "    <tr style=\"text-align: right;\">\n",
       "      <th></th>\n",
       "      <th>measure_coursestddev_43200</th>\n",
       "      <th>measure_speedavg_86400</th>\n",
       "      <th>measure_coursestddev_1800_log</th>\n",
       "      <th>measure_coursestddev_10800_log</th>\n",
       "      <th>measure_courseavg_43200</th>\n",
       "      <th>measure_cos_course</th>\n",
       "      <th>measure_daylightavg_1800</th>\n",
       "      <th>measure_coursestddev_21600</th>\n",
       "      <th>measure_speedstddev_1800</th>\n",
       "      <th>measure_distance_from_port</th>\n",
       "      <th>...</th>\n",
       "      <th>measure_daylight</th>\n",
       "      <th>measure_coursestddev_1800</th>\n",
       "      <th>measure_pos_21600</th>\n",
       "      <th>measure_coursestddev_3600_log</th>\n",
       "      <th>measure_speedavg_1800</th>\n",
       "      <th>measure_lonavg_43200</th>\n",
       "      <th>measure_speedstddev_1800_log</th>\n",
       "      <th>measure_courseavg_21600</th>\n",
       "      <th>measure_coursestddev_10800</th>\n",
       "      <th>measure_speed</th>\n",
       "    </tr>\n",
       "    <tr>\n",
       "      <th>is_fishing</th>\n",
       "      <th></th>\n",
       "      <th></th>\n",
       "      <th></th>\n",
       "      <th></th>\n",
       "      <th></th>\n",
       "      <th></th>\n",
       "      <th></th>\n",
       "      <th></th>\n",
       "      <th></th>\n",
       "      <th></th>\n",
       "      <th></th>\n",
       "      <th></th>\n",
       "      <th></th>\n",
       "      <th></th>\n",
       "      <th></th>\n",
       "      <th></th>\n",
       "      <th></th>\n",
       "      <th></th>\n",
       "      <th></th>\n",
       "      <th></th>\n",
       "      <th></th>\n",
       "    </tr>\n",
       "  </thead>\n",
       "  <tbody>\n",
       "    <tr>\n",
       "      <th>0.0</th>\n",
       "      <td>0.329647</td>\n",
       "      <td>0.742965</td>\n",
       "      <td>-2.077196</td>\n",
       "      <td>-1.463860</td>\n",
       "      <td>0.549997</td>\n",
       "      <td>0.033999</td>\n",
       "      <td>0.507943</td>\n",
       "      <td>0.249315</td>\n",
       "      <td>0.008394</td>\n",
       "      <td>0.989764</td>\n",
       "      <td>...</td>\n",
       "      <td>0.513161</td>\n",
       "      <td>0.064668</td>\n",
       "      <td>0.083291</td>\n",
       "      <td>-1.924135</td>\n",
       "      <td>0.712483</td>\n",
       "      <td>-35.974912</td>\n",
       "      <td>-2.466032</td>\n",
       "      <td>0.549934</td>\n",
       "      <td>0.184166</td>\n",
       "      <td>0.711909</td>\n",
       "    </tr>\n",
       "    <tr>\n",
       "      <th>1.0</th>\n",
       "      <td>0.545111</td>\n",
       "      <td>0.711700</td>\n",
       "      <td>-1.668870</td>\n",
       "      <td>-0.739401</td>\n",
       "      <td>0.491566</td>\n",
       "      <td>0.006685</td>\n",
       "      <td>0.516783</td>\n",
       "      <td>0.450399</td>\n",
       "      <td>0.014567</td>\n",
       "      <td>1.000000</td>\n",
       "      <td>...</td>\n",
       "      <td>0.521646</td>\n",
       "      <td>0.086162</td>\n",
       "      <td>0.072853</td>\n",
       "      <td>-1.485516</td>\n",
       "      <td>0.737045</td>\n",
       "      <td>-29.195121</td>\n",
       "      <td>-2.193470</td>\n",
       "      <td>0.492170</td>\n",
       "      <td>0.335319</td>\n",
       "      <td>0.736545</td>\n",
       "    </tr>\n",
       "  </tbody>\n",
       "</table>\n",
       "<p>2 rows × 80 columns</p>\n",
       "</div>"
      ],
      "text/plain": [
       "            measure_coursestddev_43200  measure_speedavg_86400  \\\n",
       "is_fishing                                                       \n",
       "0.0                           0.329647                0.742965   \n",
       "1.0                           0.545111                0.711700   \n",
       "\n",
       "            measure_coursestddev_1800_log  measure_coursestddev_10800_log  \\\n",
       "is_fishing                                                                  \n",
       "0.0                             -2.077196                       -1.463860   \n",
       "1.0                             -1.668870                       -0.739401   \n",
       "\n",
       "            measure_courseavg_43200  measure_cos_course  \\\n",
       "is_fishing                                                \n",
       "0.0                        0.549997            0.033999   \n",
       "1.0                        0.491566            0.006685   \n",
       "\n",
       "            measure_daylightavg_1800  measure_coursestddev_21600  \\\n",
       "is_fishing                                                         \n",
       "0.0                         0.507943                    0.249315   \n",
       "1.0                         0.516783                    0.450399   \n",
       "\n",
       "            measure_speedstddev_1800  measure_distance_from_port  \\\n",
       "is_fishing                                                         \n",
       "0.0                         0.008394                    0.989764   \n",
       "1.0                         0.014567                    1.000000   \n",
       "\n",
       "                ...        measure_daylight  measure_coursestddev_1800  \\\n",
       "is_fishing      ...                                                      \n",
       "0.0             ...                0.513161                   0.064668   \n",
       "1.0             ...                0.521646                   0.086162   \n",
       "\n",
       "            measure_pos_21600  measure_coursestddev_3600_log  \\\n",
       "is_fishing                                                     \n",
       "0.0                  0.083291                      -1.924135   \n",
       "1.0                  0.072853                      -1.485516   \n",
       "\n",
       "            measure_speedavg_1800  measure_lonavg_43200  \\\n",
       "is_fishing                                                \n",
       "0.0                      0.712483            -35.974912   \n",
       "1.0                      0.737045            -29.195121   \n",
       "\n",
       "            measure_speedstddev_1800_log  measure_courseavg_21600  \\\n",
       "is_fishing                                                          \n",
       "0.0                            -2.466032                 0.549934   \n",
       "1.0                            -2.193470                 0.492170   \n",
       "\n",
       "            measure_coursestddev_10800  measure_speed  \n",
       "is_fishing                                             \n",
       "0.0                           0.184166       0.711909  \n",
       "1.0                           0.335319       0.736545  \n",
       "\n",
       "[2 rows x 80 columns]"
      ]
     },
     "execution_count": 12,
     "metadata": {},
     "output_type": "execute_result"
    }
   ],
   "source": [
    "df.groupby('is_fishing').mean()"
   ]
  },
  {
   "cell_type": "code",
   "execution_count": 13,
   "metadata": {},
   "outputs": [
    {
     "name": "stderr",
     "output_type": "stream",
     "text": [
      "/Users/mnksmith/anaconda/envs/py36/lib/python3.6/site-packages/numpy/core/fromnumeric.py:52: FutureWarning: reshape is deprecated and will raise in a subsequent release. Please use .values.reshape(...) instead\n",
      "  return getattr(obj, method)(*args, **kwds)\n",
      "/Users/mnksmith/anaconda/envs/py36/lib/python3.6/site-packages/numpy/lib/function_base.py:780: RuntimeWarning: invalid value encountered in greater_equal\n",
      "  keep = (tmp_a >= first_edge)\n",
      "/Users/mnksmith/anaconda/envs/py36/lib/python3.6/site-packages/numpy/lib/function_base.py:781: RuntimeWarning: invalid value encountered in less_equal\n",
      "  keep &= (tmp_a <= last_edge)\n"
     ]
    },
    {
     "data": {
      "image/png": "[encoded data removed]",
      "text/plain": [
       "<matplotlib.figure.Figure at 0x111494400>"
      ]
     },
     "metadata": {},
     "output_type": "display_data"
    }
   ],
   "source": [
    "plt.figure()\n",
    "plt.tight_layout()\n",
    "plt.subplot(1,2,1)\n",
    "plt.xlim(0,20)\n",
    "fishy = df.loc[df.is_fishing==1]\n",
    "unfishy = df.loc[df.is_fishing==0]\n",
    "#plt.hist(fishy.speed, range=(0,20))\n",
    "plt.hist([fishy['speed'],unfishy['speed']], stacked=True, range = (0,20))\n",
    "plt.subplot(1,2,2)\n",
    "#measure_speed = 1.0 - min(1, speed-over-ground / 17)\n",
    "plt.hist([fishy['measure_speed'],unfishy['measure_speed']], stacked=True, range = (0,1))\n",
    "plt.show()"
   ]
  },
  {
   "cell_type": "markdown",
   "metadata": {},
   "source": [
    "The \"measure_speed\" feature is equivalent to the speed-over-ground, capped at 17 knots."
   ]
  },
  {
   "cell_type": "code",
   "execution_count": 14,
   "metadata": {
    "scrolled": true
   },
   "outputs": [
    {
     "name": "stderr",
     "output_type": "stream",
     "text": [
      "/Users/mnksmith/anaconda/envs/py36/lib/python3.6/site-packages/numpy/core/fromnumeric.py:52: FutureWarning: reshape is deprecated and will raise in a subsequent release. Please use .values.reshape(...) instead\n",
      "  return getattr(obj, method)(*args, **kwds)\n",
      "/Users/mnksmith/anaconda/envs/py36/lib/python3.6/site-packages/numpy/lib/function_base.py:780: RuntimeWarning: invalid value encountered in greater_equal\n",
      "  keep = (tmp_a >= first_edge)\n",
      "/Users/mnksmith/anaconda/envs/py36/lib/python3.6/site-packages/numpy/lib/function_base.py:781: RuntimeWarning: invalid value encountered in less_equal\n",
      "  keep &= (tmp_a <= last_edge)\n"
     ]
    },
    {
     "data": {
      "image/png": "[encoded data removed]",
      "text/plain": [
       "<matplotlib.figure.Figure at 0x111494588>"
      ]
     },
     "metadata": {},
     "output_type": "display_data"
    }
   ],
   "source": [
    "plt.figure()\n",
    "plt.tight_layout()\n",
    "plt.subplot(1,2,1)\n",
    "plt.hist([fishy['course'],unfishy['course']], stacked=True, range = (0,20))\n",
    "plt.subplot(1,2,2)\n",
    "#measure_course = course-over-ground / 360)\n",
    "plt.hist([fishy['measure_course'],unfishy['measure_course']], stacked=True, range = (0,1))\n",
    "plt.show()"
   ]
  },
  {
   "cell_type": "markdown",
   "metadata": {},
   "source": [
    "The \"measure_course\" feature is equivalent to the course-over-ground, divided by 360."
   ]
  },
  {
   "cell_type": "code",
   "execution_count": 15,
   "metadata": {
    "scrolled": false
   },
   "outputs": [
    {
     "name": "stderr",
     "output_type": "stream",
     "text": [
      "/Users/mnksmith/anaconda/envs/py36/lib/python3.6/site-packages/numpy/core/fromnumeric.py:52: FutureWarning: reshape is deprecated and will raise in a subsequent release. Please use .values.reshape(...) instead\n",
      "  return getattr(obj, method)(*args, **kwds)\n",
      "/Users/mnksmith/anaconda/envs/py36/lib/python3.6/site-packages/numpy/lib/function_base.py:780: RuntimeWarning: invalid value encountered in greater_equal\n",
      "  keep = (tmp_a >= first_edge)\n",
      "/Users/mnksmith/anaconda/envs/py36/lib/python3.6/site-packages/numpy/lib/function_base.py:781: RuntimeWarning: invalid value encountered in less_equal\n",
      "  keep &= (tmp_a <= last_edge)\n"
     ]
    },
    {
     "data": {
      "image/png": "[encoded data removed]",
      "text/plain": [
       "<matplotlib.figure.Figure at 0x11647a748>"
      ]
     },
     "metadata": {},
     "output_type": "display_data"
    }
   ],
   "source": [
    "plt.figure()\n",
    "plt.xlim(0,1)\n",
    "plt.hist([fishy['measure_coursestddev_21600'],unfishy['measure_coursestddev_21600']], stacked=True, bins=20, range=(0,1))\n",
    "plt.show()"
   ]
  },
  {
   "cell_type": "code",
   "execution_count": 16,
   "metadata": {},
   "outputs": [
    {
     "name": "stderr",
     "output_type": "stream",
     "text": [
      "/Users/mnksmith/anaconda/envs/py36/lib/python3.6/site-packages/numpy/core/fromnumeric.py:52: FutureWarning: reshape is deprecated and will raise in a subsequent release. Please use .values.reshape(...) instead\n",
      "  return getattr(obj, method)(*args, **kwds)\n",
      "/Users/mnksmith/anaconda/envs/py36/lib/python3.6/site-packages/numpy/lib/function_base.py:780: RuntimeWarning: invalid value encountered in greater_equal\n",
      "  keep = (tmp_a >= first_edge)\n",
      "/Users/mnksmith/anaconda/envs/py36/lib/python3.6/site-packages/numpy/lib/function_base.py:781: RuntimeWarning: invalid value encountered in less_equal\n",
      "  keep &= (tmp_a <= last_edge)\n"
     ]
    },
    {
     "data": {
      "image/png": "[encoded data removed]",
      "text/plain": [
       "<matplotlib.figure.Figure at 0x110dc1208>"
      ]
     },
     "metadata": {},
     "output_type": "display_data"
    }
   ],
   "source": [
    "plt.figure()\n",
    "plt.xlim(0,0.25)\n",
    "plt.hist([fishy['measure_speedstddev_21600'],unfishy['measure_speedstddev_21600']], stacked=True, bins=20, range=(0,0.2))\n",
    "plt.show()"
   ]
  },
  {
   "cell_type": "code",
   "execution_count": 17,
   "metadata": {
    "scrolled": false
   },
   "outputs": [
    {
     "name": "stderr",
     "output_type": "stream",
     "text": [
      "/Users/mnksmith/anaconda/envs/py36/lib/python3.6/site-packages/numpy/lib/function_base.py:780: RuntimeWarning: invalid value encountered in greater_equal\n",
      "  keep = (tmp_a >= first_edge)\n",
      "/Users/mnksmith/anaconda/envs/py36/lib/python3.6/site-packages/numpy/lib/function_base.py:781: RuntimeWarning: invalid value encountered in less_equal\n",
      "  keep &= (tmp_a <= last_edge)\n"
     ]
    },
    {
     "data": {
      "image/png": "[encoded data removed]",
      "text/plain": [
       "<matplotlib.figure.Figure at 0x110eb83c8>"
      ]
     },
     "metadata": {},
     "output_type": "display_data"
    }
   ],
   "source": [
    "plt.figure()\n",
    "plt.xlim(0,1)\n",
    "plt.hist([fishy['measure_speedavg_21600'].values,unfishy['measure_speedavg_21600'].values], stacked=True, bins=20, range=(0,1))\n",
    "plt.xlabel('Measure Speed')\n",
    "#plt.show()\n",
    "plt.savefig('example_feature.png', dpi=300)"
   ]
  },
  {
   "cell_type": "code",
   "execution_count": 9,
   "metadata": {},
   "outputs": [
    {
     "data": {
      "text/html": [
       "<div>\n",
       "<style scoped>\n",
       "    .dataframe tbody tr th:only-of-type {\n",
       "        vertical-align: middle;\n",
       "    }\n",
       "\n",
       "    .dataframe tbody tr th {\n",
       "        vertical-align: top;\n",
       "    }\n",
       "\n",
       "    .dataframe thead th {\n",
       "        text-align: right;\n",
       "    }\n",
       "</style>\n",
       "<table border=\"1\" class=\"dataframe\">\n",
       "  <thead>\n",
       "    <tr style=\"text-align: right;\">\n",
       "      <th></th>\n",
       "      <th>index</th>\n",
       "      <th>measure_speedavg_21600</th>\n",
       "      <th>measure_speedavg_21600_not_Fishing</th>\n",
       "    </tr>\n",
       "  </thead>\n",
       "  <tbody>\n",
       "    <tr>\n",
       "      <th>0</th>\n",
       "      <td>4226</td>\n",
       "      <td>0.776471</td>\n",
       "      <td>0.996078</td>\n",
       "    </tr>\n",
       "    <tr>\n",
       "      <th>1</th>\n",
       "      <td>4227</td>\n",
       "      <td>0.776471</td>\n",
       "      <td>0.997059</td>\n",
       "    </tr>\n",
       "    <tr>\n",
       "      <th>2</th>\n",
       "      <td>4228</td>\n",
       "      <td>0.764706</td>\n",
       "      <td>0.996471</td>\n",
       "    </tr>\n",
       "    <tr>\n",
       "      <th>3</th>\n",
       "      <td>4229</td>\n",
       "      <td>0.758824</td>\n",
       "      <td>0.996078</td>\n",
       "    </tr>\n",
       "    <tr>\n",
       "      <th>4</th>\n",
       "      <td>4276</td>\n",
       "      <td>0.841176</td>\n",
       "      <td>0.995502</td>\n",
       "    </tr>\n",
       "    <tr>\n",
       "      <th>5</th>\n",
       "      <td>4277</td>\n",
       "      <td>0.858824</td>\n",
       "      <td>0.995425</td>\n",
       "    </tr>\n",
       "    <tr>\n",
       "      <th>6</th>\n",
       "      <td>4278</td>\n",
       "      <td>0.869412</td>\n",
       "      <td>0.996791</td>\n",
       "    </tr>\n",
       "    <tr>\n",
       "      <th>7</th>\n",
       "      <td>4279</td>\n",
       "      <td>0.876471</td>\n",
       "      <td>0.997059</td>\n",
       "    </tr>\n",
       "    <tr>\n",
       "      <th>8</th>\n",
       "      <td>4280</td>\n",
       "      <td>0.881699</td>\n",
       "      <td>0.997285</td>\n",
       "    </tr>\n",
       "    <tr>\n",
       "      <th>9</th>\n",
       "      <td>4281</td>\n",
       "      <td>0.881176</td>\n",
       "      <td>0.997479</td>\n",
       "    </tr>\n",
       "  </tbody>\n",
       "</table>\n",
       "</div>"
      ],
      "text/plain": [
       "   index  measure_speedavg_21600  measure_speedavg_21600_not_Fishing\n",
       "0   4226                0.776471                            0.996078\n",
       "1   4227                0.776471                            0.997059\n",
       "2   4228                0.764706                            0.996471\n",
       "3   4229                0.758824                            0.996078\n",
       "4   4276                0.841176                            0.995502\n",
       "5   4277                0.858824                            0.995425\n",
       "6   4278                0.869412                            0.996791\n",
       "7   4279                0.876471                            0.997059\n",
       "8   4280                0.881699                            0.997285\n",
       "9   4281                0.881176                            0.997479"
      ]
     },
     "execution_count": 9,
     "metadata": {},
     "output_type": "execute_result"
    }
   ],
   "source": [
    "df = fishy[['measure_speedavg_21600']].reset_index()\n",
    "df['measure_speedavg_21600_not_Fishing'] = unfishy['measure_speedavg_21600']\n",
    "df.head(10)"
   ]
  },
  {
   "cell_type": "code",
   "execution_count": 27,
   "metadata": {},
   "outputs": [],
   "source": [
    "# Create a Pandas Excel writer using XlsxWriter as the engine.\n",
    "writer = pd.ExcelWriter('MPA_feature_example.xlsx', engine='xlsxwriter')\n",
    "\n",
    "# Convert the dataframe to an XlsxWriter Excel object.\n",
    "df.to_excel(writer, sheet_name='Sheet1')\n",
    "\n",
    "# Close the Pandas Excel writer and output the Excel file.\n",
    "writer.save()"
   ]
  },
  {
   "cell_type": "markdown",
   "metadata": {},
   "source": [
    "Now plot a scatter matrix to look for corellations between some select features"
   ]
  },
  {
   "cell_type": "code",
   "execution_count": 18,
   "metadata": {},
   "outputs": [
    {
     "data": {
      "text/plain": [
       "array([[<matplotlib.axes._subplots.AxesSubplot object at 0x10ab252b0>,\n",
       "        <matplotlib.axes._subplots.AxesSubplot object at 0x10ab7ae48>,\n",
       "        <matplotlib.axes._subplots.AxesSubplot object at 0x10abb1dd8>],\n",
       "       [<matplotlib.axes._subplots.AxesSubplot object at 0x1114a8eb8>,\n",
       "        <matplotlib.axes._subplots.AxesSubplot object at 0x10abe9eb8>,\n",
       "        <matplotlib.axes._subplots.AxesSubplot object at 0x10abe9ef0>],\n",
       "       [<matplotlib.axes._subplots.AxesSubplot object at 0x109eb2b38>,\n",
       "        <matplotlib.axes._subplots.AxesSubplot object at 0x111106b38>,\n",
       "        <matplotlib.axes._subplots.AxesSubplot object at 0x1114fdba8>]],\n",
       "      dtype=object)"
      ]
     },
     "execution_count": 18,
     "metadata": {},
     "output_type": "execute_result"
    },
    {
     "data": {
      "image/png": "[encoded data removed]",
      "text/plain": [
       "<matplotlib.figure.Figure at 0x1168c0be0>"
      ]
     },
     "metadata": {},
     "output_type": "display_data"
    }
   ],
   "source": [
    "df_slim = df[['measure_speedavg_21600','measure_speedstddev_21600','measure_coursestddev_21600']].copy()\n",
    "pd.plotting.scatter_matrix(df_slim, c = 'y', figsize = [8, 8], s=150, marker = 'D')"
   ]
  },
  {
   "cell_type": "markdown",
   "metadata": {},
   "source": [
    "## Logistic Regression Model\n",
    "\n",
    "Each of the key features (average speed, standard deviation of speed, and standard deviation of course) are averaged over 0.5, 1, 3, 6, 12, and 24 hours to fill out the list of features.  Powers (up to 6) of each of these features are included to uncover non-linear behavior.  For example, from the plots above it is clear that vessels moving very slowly or very quickly are less likely to be fishing, while there's a \"sweet spot\" in the middle.  A linear fit will not capture this behavior."
   ]
  },
  {
   "cell_type": "code",
   "execution_count": 19,
   "metadata": {},
   "outputs": [
    {
     "data": {
      "text/plain": [
       "['measure_coursestddev_43200',\n",
       " 'measure_speedavg_86400',\n",
       " 'measure_coursestddev_1800_log',\n",
       " 'measure_coursestddev_10800_log',\n",
       " 'measure_courseavg_43200',\n",
       " 'measure_cos_course',\n",
       " 'measure_daylightavg_1800',\n",
       " 'measure_coursestddev_21600',\n",
       " 'measure_speedstddev_1800',\n",
       " 'measure_distance_from_port',\n",
       " 'measure_count_1800',\n",
       " 'course',\n",
       " 'measure_sin_course',\n",
       " 'measure_speedstddev_10800',\n",
       " 'measure_speedavg_21600',\n",
       " 'speed',\n",
       " 'is_fishing',\n",
       " 'measure_pos_86400',\n",
       " 'measure_daylightavg_43200',\n",
       " 'measure_latavg_86400',\n",
       " 'measure_latavg_10800',\n",
       " 'distance_from_port',\n",
       " 'measure_latavg_1800',\n",
       " 'measure_pos_1800',\n",
       " 'measure_lonavg_3600',\n",
       " 'measure_count_3600',\n",
       " 'lon',\n",
       " 'measure_speedavg_10800',\n",
       " 'measure_latavg_3600',\n",
       " 'measure_coursestddev_43200_log',\n",
       " 'measure_latavg_21600',\n",
       " 'measure_daylightavg_10800',\n",
       " 'measure_count_86400',\n",
       " 'measure_count_21600',\n",
       " 'measure_speedstddev_86400_log',\n",
       " 'measure_lonavg_1800',\n",
       " 'measure_courseavg_10800',\n",
       " 'measure_speedstddev_3600',\n",
       " 'measure_lonavg_10800',\n",
       " 'measure_course',\n",
       " 'measure_pos_43200',\n",
       " 'distance_from_shore',\n",
       " 'measure_courseavg_1800',\n",
       " 'measure_pos_3600',\n",
       " 'measure_speedstddev_86400',\n",
       " 'measure_coursestddev_21600_log',\n",
       " 'measure_lonavg_21600',\n",
       " 'timestamp',\n",
       " 'measure_speedstddev_21600_log',\n",
       " 'measure_coursestddev_86400_log',\n",
       " 'measure_speedavg_43200',\n",
       " 'measure_coursestddev_86400',\n",
       " 'measure_speedavg_3600',\n",
       " 'measure_courseavg_3600',\n",
       " 'measure_speedstddev_21600',\n",
       " 'measure_daylightavg_86400',\n",
       " 'lat',\n",
       " 'measure_count_43200',\n",
       " 'measure_daylightavg_3600',\n",
       " 'mmsi',\n",
       " 'measure_pos_10800',\n",
       " 'measure_count_10800',\n",
       " 'measure_speedstddev_43200_log',\n",
       " 'measure_coursestddev_3600',\n",
       " 'measure_speedstddev_43200',\n",
       " 'measure_courseavg_86400',\n",
       " 'measure_lonavg_86400',\n",
       " 'measure_speedstddev_3600_log',\n",
       " 'measure_latavg_43200',\n",
       " 'measure_speedstddev_10800_log',\n",
       " 'measure_daylightavg_21600',\n",
       " 'measure_daylight',\n",
       " 'measure_coursestddev_1800',\n",
       " 'measure_pos_21600',\n",
       " 'measure_coursestddev_3600_log',\n",
       " 'measure_speedavg_1800',\n",
       " 'measure_lonavg_43200',\n",
       " 'measure_speedstddev_1800_log',\n",
       " 'measure_courseavg_21600',\n",
       " 'measure_coursestddev_10800',\n",
       " 'measure_speed',\n",
       " 'measure_speedavg_1800_2',\n",
       " 'measure_speedstddev_1800_log_2',\n",
       " 'measure_coursestddev_1800_log_2',\n",
       " 'measure_speedavg_3600_2',\n",
       " 'measure_speedstddev_3600_log_2',\n",
       " 'measure_coursestddev_3600_log_2',\n",
       " 'measure_speedavg_10800_2',\n",
       " 'measure_speedstddev_10800_log_2',\n",
       " 'measure_coursestddev_10800_log_2',\n",
       " 'measure_speedavg_21600_2',\n",
       " 'measure_speedstddev_21600_log_2',\n",
       " 'measure_coursestddev_21600_log_2',\n",
       " 'measure_speedavg_43200_2',\n",
       " 'measure_speedstddev_43200_log_2',\n",
       " 'measure_coursestddev_43200_log_2',\n",
       " 'measure_speedavg_86400_2',\n",
       " 'measure_speedstddev_86400_log_2',\n",
       " 'measure_coursestddev_86400_log_2',\n",
       " 'measure_speedavg_1800_3',\n",
       " 'measure_speedstddev_1800_log_3',\n",
       " 'measure_coursestddev_1800_log_3',\n",
       " 'measure_speedavg_3600_3',\n",
       " 'measure_speedstddev_3600_log_3',\n",
       " 'measure_coursestddev_3600_log_3',\n",
       " 'measure_speedavg_10800_3',\n",
       " 'measure_speedstddev_10800_log_3',\n",
       " 'measure_coursestddev_10800_log_3',\n",
       " 'measure_speedavg_21600_3',\n",
       " 'measure_speedstddev_21600_log_3',\n",
       " 'measure_coursestddev_21600_log_3',\n",
       " 'measure_speedavg_43200_3',\n",
       " 'measure_speedstddev_43200_log_3',\n",
       " 'measure_coursestddev_43200_log_3',\n",
       " 'measure_speedavg_86400_3',\n",
       " 'measure_speedstddev_86400_log_3',\n",
       " 'measure_coursestddev_86400_log_3',\n",
       " 'measure_speedavg_1800_4',\n",
       " 'measure_speedstddev_1800_log_4',\n",
       " 'measure_coursestddev_1800_log_4',\n",
       " 'measure_speedavg_3600_4',\n",
       " 'measure_speedstddev_3600_log_4',\n",
       " 'measure_coursestddev_3600_log_4',\n",
       " 'measure_speedavg_10800_4',\n",
       " 'measure_speedstddev_10800_log_4',\n",
       " 'measure_coursestddev_10800_log_4',\n",
       " 'measure_speedavg_21600_4',\n",
       " 'measure_speedstddev_21600_log_4',\n",
       " 'measure_coursestddev_21600_log_4',\n",
       " 'measure_speedavg_43200_4',\n",
       " 'measure_speedstddev_43200_log_4',\n",
       " 'measure_coursestddev_43200_log_4',\n",
       " 'measure_speedavg_86400_4',\n",
       " 'measure_speedstddev_86400_log_4',\n",
       " 'measure_coursestddev_86400_log_4',\n",
       " 'measure_speedavg_1800_5',\n",
       " 'measure_speedstddev_1800_log_5',\n",
       " 'measure_coursestddev_1800_log_5',\n",
       " 'measure_speedavg_3600_5',\n",
       " 'measure_speedstddev_3600_log_5',\n",
       " 'measure_coursestddev_3600_log_5',\n",
       " 'measure_speedavg_10800_5',\n",
       " 'measure_speedstddev_10800_log_5',\n",
       " 'measure_coursestddev_10800_log_5',\n",
       " 'measure_speedavg_21600_5',\n",
       " 'measure_speedstddev_21600_log_5',\n",
       " 'measure_coursestddev_21600_log_5',\n",
       " 'measure_speedavg_43200_5',\n",
       " 'measure_speedstddev_43200_log_5',\n",
       " 'measure_coursestddev_43200_log_5',\n",
       " 'measure_speedavg_86400_5',\n",
       " 'measure_speedstddev_86400_log_5',\n",
       " 'measure_coursestddev_86400_log_5',\n",
       " 'measure_speedavg_1800_6',\n",
       " 'measure_speedstddev_1800_log_6',\n",
       " 'measure_coursestddev_1800_log_6',\n",
       " 'measure_speedavg_3600_6',\n",
       " 'measure_speedstddev_3600_log_6',\n",
       " 'measure_coursestddev_3600_log_6',\n",
       " 'measure_speedavg_10800_6',\n",
       " 'measure_speedstddev_10800_log_6',\n",
       " 'measure_coursestddev_10800_log_6',\n",
       " 'measure_speedavg_21600_6',\n",
       " 'measure_speedstddev_21600_log_6',\n",
       " 'measure_coursestddev_21600_log_6',\n",
       " 'measure_speedavg_43200_6',\n",
       " 'measure_speedstddev_43200_log_6',\n",
       " 'measure_coursestddev_43200_log_6',\n",
       " 'measure_speedavg_86400_6',\n",
       " 'measure_speedstddev_86400_log_6',\n",
       " 'measure_coursestddev_86400_log_6']"
      ]
     },
     "execution_count": 19,
     "metadata": {},
     "output_type": "execute_result"
    }
   ],
   "source": [
    "times = [1800,3600,10800,21600,43200,86400]\n",
    "for p in range(2,7):\n",
    "    for time in times:\n",
    "        avgspd = 'measure_speedavg_' + str(time)\n",
    "        stdspd = 'measure_speedstddev_' + str(time) + '_log'\n",
    "        stdcs = 'measure_coursestddev_' + str(time) + '_log'\n",
    "        avgspd_p = 'measure_speedavg_' + str(time) + '_' + str(p)\n",
    "        stdspd_p = 'measure_speedstddev_' + str(time) + '_log_' + str(p)\n",
    "        stdcs_p = 'measure_coursestddev_' + str(time) + '_log_' + str(p)\n",
    "        \n",
    "        df[avgspd_p] = pow(df[avgspd],p)\n",
    "        df[stdspd_p] = pow(df[stdspd],p)\n",
    "        df[stdcs_p] = pow(df[stdcs],p)\n",
    "        \n",
    "list(df)"
   ]
  },
  {
   "cell_type": "code",
   "execution_count": 20,
   "metadata": {},
   "outputs": [
    {
     "name": "stdout",
     "output_type": "stream",
     "text": [
      "Index(['Intercept', 'measure_speedavg_1800', 'measure_speedavg_3600',\n",
      "       'measure_speedavg_10800', 'measure_speedavg_21600',\n",
      "       'measure_speedavg_43200', 'measure_speedavg_86400',\n",
      "       'measure_speedstddev_1800_log', 'measure_speedstddev_3600_log',\n",
      "       'measure_speedstddev_10800_log',\n",
      "       ...\n",
      "       'measure_speedstddev_10800_log_6', 'measure_speedstddev_21600_log_6',\n",
      "       'measure_speedstddev_43200_log_6', 'measure_speedstddev_86400_log_6',\n",
      "       'measure_coursestddev_1800_log_6', 'measure_coursestddev_3600_log_6',\n",
      "       'measure_coursestddev_10800_log_6', 'measure_coursestddev_21600_log_6',\n",
      "       'measure_coursestddev_43200_log_6', 'measure_coursestddev_86400_log_6'],\n",
      "      dtype='object', length=109)\n"
     ]
    }
   ],
   "source": [
    "y, X = dmatrices('is_fishing ~ measure_speedavg_1800 + measure_speedavg_3600 + measure_speedavg_10800 + \\\n",
    "                    measure_speedavg_21600 + measure_speedavg_43200 + measure_speedavg_86400 + \\\n",
    "                    measure_speedstddev_1800_log + measure_speedstddev_3600_log + measure_speedstddev_10800_log + \\\n",
    "                    measure_speedstddev_21600_log + measure_speedstddev_43200_log + measure_speedstddev_86400_log + \\\n",
    "                    measure_coursestddev_1800_log + measure_coursestddev_3600_log + measure_coursestddev_10800_log + \\\n",
    "                    measure_coursestddev_21600_log + measure_coursestddev_43200_log + measure_coursestddev_86400_log + \\\n",
    "                    measure_speedavg_1800_2 + measure_speedavg_3600_2 + measure_speedavg_10800_2 + \\\n",
    "                    measure_speedavg_21600_2 + measure_speedavg_43200_2 + measure_speedavg_86400_2 + \\\n",
    "                    measure_speedstddev_1800_log_2 + measure_speedstddev_3600_log_2 + measure_speedstddev_10800_log_2 + \\\n",
    "                    measure_speedstddev_21600_log_2 + measure_speedstddev_43200_log_2 + measure_speedstddev_86400_log_2 + \\\n",
    "                    measure_coursestddev_1800_log_2 + measure_coursestddev_3600_log_2 + measure_coursestddev_10800_log_2 + \\\n",
    "                    measure_coursestddev_21600_log_2 + measure_coursestddev_43200_log_2 + measure_coursestddev_86400_log_2 + \\\n",
    "                    measure_speedavg_1800_3 + measure_speedavg_3600_3 + measure_speedavg_10800_3 + \\\n",
    "                    measure_speedavg_21600_3 + measure_speedavg_43200_3 + measure_speedavg_86400_3 + \\\n",
    "                    measure_speedstddev_1800_log_3 + measure_speedstddev_3600_log_3 + measure_speedstddev_10800_log_3 + \\\n",
    "                    measure_speedstddev_21600_log_3 + measure_speedstddev_43200_log_3 + measure_speedstddev_86400_log_3 + \\\n",
    "                    measure_coursestddev_1800_log_3 + measure_coursestddev_3600_log_3 + measure_coursestddev_10800_log_3 + \\\n",
    "                    measure_coursestddev_21600_log_3 + measure_coursestddev_43200_log_3 + measure_coursestddev_86400_log_3 + \\\n",
    "                    measure_speedavg_1800_4 + measure_speedavg_3600_4 + measure_speedavg_10800_4 + \\\n",
    "                    measure_speedavg_21600_4 + measure_speedavg_43200_4 + measure_speedavg_86400_4 + \\\n",
    "                    measure_speedstddev_1800_log_4 + measure_speedstddev_3600_log_4 + measure_speedstddev_10800_log_4 + \\\n",
    "                    measure_speedstddev_21600_log_4 + measure_speedstddev_43200_log_4 + measure_speedstddev_86400_log_4 + \\\n",
    "                    measure_coursestddev_1800_log_4 + measure_coursestddev_3600_log_4 + measure_coursestddev_10800_log_4 + \\\n",
    "                    measure_coursestddev_21600_log_4 + measure_coursestddev_43200_log_4 + measure_coursestddev_86400_log_4 + \\\n",
    "                    measure_speedavg_1800_5 + measure_speedavg_3600_5 + measure_speedavg_10800_5 + \\\n",
    "                    measure_speedavg_21600_5 + measure_speedavg_43200_5 + measure_speedavg_86400_5 + \\\n",
    "                    measure_speedstddev_1800_log_5 + measure_speedstddev_3600_log_5 + measure_speedstddev_10800_log_5 + \\\n",
    "                    measure_speedstddev_21600_log_5 + measure_speedstddev_43200_log_5 + measure_speedstddev_86400_log_5 + \\\n",
    "                    measure_coursestddev_1800_log_5 + measure_coursestddev_3600_log_5 + measure_coursestddev_10800_log_5 + \\\n",
    "                    measure_coursestddev_21600_log_5 + measure_coursestddev_43200_log_5 + measure_coursestddev_86400_log_5 + \\\n",
    "                    measure_speedavg_1800_6 + measure_speedavg_3600_6 + measure_speedavg_10800_6 + \\\n",
    "                    measure_speedavg_21600_6 + measure_speedavg_43200_6 + measure_speedavg_86400_6 + \\\n",
    "                    measure_speedstddev_1800_log_6 + measure_speedstddev_3600_log_6 + measure_speedstddev_10800_log_6 + \\\n",
    "                    measure_speedstddev_21600_log_6 + measure_speedstddev_43200_log_6 + measure_speedstddev_86400_log_6 + \\\n",
    "                    measure_coursestddev_1800_log_6 + measure_coursestddev_3600_log_6 + measure_coursestddev_10800_log_6 + \\\n",
    "                    measure_coursestddev_21600_log_6 + measure_coursestddev_43200_log_6 + measure_coursestddev_86400_log_6' ,\n",
    "                  df, return_type=\"dataframe\")\n",
    "print(X.columns)\n",
    "y = np.ravel(y)"
   ]
  },
  {
   "cell_type": "code",
   "execution_count": 21,
   "metadata": {},
   "outputs": [
    {
     "data": {
      "text/plain": [
       "0.8472178482552503"
      ]
     },
     "execution_count": 21,
     "metadata": {},
     "output_type": "execute_result"
    }
   ],
   "source": [
    "model = LogisticRegression()\n",
    "model = model.fit(X, y)\n",
    "model.score(X, y)"
   ]
  },
  {
   "cell_type": "markdown",
   "metadata": {},
   "source": [
    "Using the powers of each feature I lifted a 78% accuracy to 88%"
   ]
  },
  {
   "cell_type": "code",
   "execution_count": 174,
   "metadata": {},
   "outputs": [
    {
     "data": {
      "text/plain": [
       "0.48070617439469443"
      ]
     },
     "execution_count": 174,
     "metadata": {},
     "output_type": "execute_result"
    }
   ],
   "source": [
    "y.mean()"
   ]
  },
  {
   "cell_type": "markdown",
   "metadata": {},
   "source": [
    "If I guessed \"0\" every time, I'd get 52% accuracy.\n",
    "\n",
    "Now splitting the whole thing into train and test datasets to evaluate the model:"
   ]
  },
  {
   "cell_type": "code",
   "execution_count": 22,
   "metadata": {},
   "outputs": [],
   "source": [
    "X_train, X_test, y_train, y_test = train_test_split(X, y, test_size=0.2, random_state=432)\n",
    "model.fit(X_train, y_train)\n",
    "predictions = model.predict(X_test)\n",
    "probas = model.predict_proba(X_test)"
   ]
  },
  {
   "cell_type": "code",
   "execution_count": 23,
   "metadata": {},
   "outputs": [
    {
     "name": "stdout",
     "output_type": "stream",
     "text": [
      "0.8764549692796937\n",
      "0.9419180250539522\n"
     ]
    }
   ],
   "source": [
    "print(metrics.accuracy_score(y_test, predictions))\n",
    "print(metrics.roc_auc_score(y_test, probas[:, 1]))"
   ]
  },
  {
   "cell_type": "markdown",
   "metadata": {},
   "source": [
    "The accuracy is still 88% on the validation dataset, the same as when we trained and tested on the same set."
   ]
  },
  {
   "cell_type": "code",
   "execution_count": 179,
   "metadata": {},
   "outputs": [
    {
     "name": "stdout",
     "output_type": "stream",
     "text": [
      "[[28710  4911]\n",
      " [ 3060 28097]]\n",
      "             precision    recall  f1-score   support\n",
      "\n",
      "        0.0       0.90      0.85      0.88     33621\n",
      "        1.0       0.85      0.90      0.88     31157\n",
      "\n",
      "avg / total       0.88      0.88      0.88     64778\n",
      "\n"
     ]
    }
   ],
   "source": [
    "print(metrics.confusion_matrix(y_test, predictions))\n",
    "print(metrics.classification_report(y_test, predictions))"
   ]
  },
  {
   "cell_type": "code",
   "execution_count": 180,
   "metadata": {},
   "outputs": [
    {
     "name": "stdout",
     "output_type": "stream",
     "text": [
      "0.8603727355352178\n"
     ]
    }
   ],
   "source": [
    "scores = cross_val_score(LogisticRegression(), X, y, scoring='accuracy', cv=10)\n",
    "print(scores.mean())"
   ]
  },
  {
   "cell_type": "markdown",
   "metadata": {},
   "source": [
    "Over a 10-fold cross-validation, the accuracy dips slightly, to 86%"
   ]
  },
  {
   "cell_type": "code",
   "execution_count": 25,
   "metadata": {},
   "outputs": [
    {
     "data": {
      "image/png": "[encoded data removed]",
      "text/plain": [
       "<matplotlib.figure.Figure at 0x111553198>"
      ]
     },
     "metadata": {},
     "output_type": "display_data"
    }
   ],
   "source": [
    "fpr, tpr, _ = metrics.roc_curve(y_test,probas[:,1])\n",
    "plt.plot(fpr,tpr)\n",
    "plt.xlabel('False Positive Rate')\n",
    "plt.ylabel('True Positive Rate')\n",
    "plt.ylim(0,1)\n",
    "plt.xlim(0,1)\n",
    "#plt.show()\n",
    "\n",
    "plt.savefig('roc_curve.png', dpi=300)"
   ]
  },
  {
   "cell_type": "markdown",
   "metadata": {},
   "source": [
    "Finally, a ROC-curve showing how well the model performs in terms of precision and accuracy."
   ]
  },
  {
   "cell_type": "code",
   "execution_count": 167,
   "metadata": {},
   "outputs": [
    {
     "name": "stdout",
     "output_type": "stream",
     "text": [
      "[0. 1. 0. ... 0. 1. 0.]\n"
     ]
    }
   ],
   "source": []
  },
  {
   "cell_type": "code",
   "execution_count": null,
   "metadata": {
    "collapsed": true
   },
   "outputs": [],
   "source": []
  }
 ],
 "metadata": {
  "kernelspec": {
   "display_name": "Python 3",
   "language": "python",
   "name": "python3"
  },
  "language_info": {
   "codemirror_mode": {
    "name": "ipython",
    "version": 3
   },
   "file_extension": ".py",
   "mimetype": "text/x-python",
   "name": "python",
   "nbconvert_exporter": "python",
   "pygments_lexer": "ipython3",
   "version": "3.7.4"
  }
 },
 "nbformat": 4,
 "nbformat_minor": 2
}
